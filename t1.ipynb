{
 "cells": [
  {
   "cell_type": "markdown",
   "metadata": {},
   "source": [
    "### 核心目标\n",
    "1.任务的空间复杂度（上传文件的上下文）降低到一个可以控制的范围\n",
    "2.在完成基本任务的同时实现切片合并问题和输出格式的问题\n",
    "### 做法\n",
    "1.数据：使用docx这种可以编程解析的文件类型，\n",
    "2.预处理:对文件整体解析，并对解析出来的文件段落进行组合作为单元任务上传(在上传前规划好这一次的token使用)\n",
    "3.提示词：对于单元任务我们主要做的工作是概括并总结出这个单元围绕着什么来写，这个单元的实体之间有什么关系，为单元任务总结提示词，我们要给他上文提到的实体和关系，优化表现\n",
    "4.结果整合：对于返回的json，进行数据库录入（知识图谱构建）"
   ]
  },
  {
   "cell_type": "markdown",
   "metadata": {},
   "source": [
    "# 一、"
   ]
  },
  {
   "cell_type": "code",
   "execution_count": 1,
   "metadata": {},
   "outputs": [],
   "source": [
    "index_num=10\n",
    "page_nums=[12,17,22,28]\n"
   ]
  },
  {
   "cell_type": "code",
   "execution_count": 3,
   "metadata": {},
   "outputs": [
    {
     "name": "stdout",
     "output_type": "stream",
     "text": [
      "6047\n",
      "6047\n",
      "6047\n",
      "6047\n",
      "6047\n",
      "6047\n"
     ]
    }
   ],
   "source": [
    "from docx import Document\n",
    "\n",
    "doc = Document('./data/（123）虚拟现实：商业化应用及影响-杨浩然-清华大学出版社.docx')\n",
    "new_doc = Document()\n",
    "for i, section in enumerate(doc.sections):\n",
    "    if i in [12,13,14,15,16,17]:\n",
    "        sec_doc=section._document_part.document\n",
    "        paragraphs = []\n",
    "        print(len(sec_doc.paragraphs))\n",
    "        for paragraph in sec_doc.paragraphs:\n",
    "            paragraphs.append(paragraph.text)\n",
    "    elif i>18:\n",
    "        break"
   ]
  }
 ],
 "metadata": {
  "interpreter": {
   "hash": "3a43079d299c63bb783284bcb9ac9bc1e3eed3f0314f470cf5a5fdc85cb444e2"
  },
  "kernelspec": {
   "display_name": "Python 3.10.12 ('bisheng-wP9oaGSh-py3.10')",
   "language": "python",
   "name": "python3"
  },
  "language_info": {
   "codemirror_mode": {
    "name": "ipython",
    "version": 3
   },
   "file_extension": ".py",
   "mimetype": "text/x-python",
   "name": "python",
   "nbconvert_exporter": "python",
   "pygments_lexer": "ipython3",
   "version": "3.10.12"
  },
  "orig_nbformat": 4
 },
 "nbformat": 4,
 "nbformat_minor": 2
}
