{
 "cells": [
  {
   "cell_type": "code",
   "execution_count": 1,
   "metadata": {},
   "outputs": [],
   "source": [
    "# 将目录数据转成实体关系数据以及切片数据\n",
    "from buildKG.str2json import indexstr2json,str2json\n",
    "from buildKG.docx2request import group_paragraphs_by_token_limit,extract_text_from_pages,group_page_by_token_limit\n",
    "from buildKG.forest import Node,Edge,Forest\n",
    "\n",
    "from http import HTTPStatus\n",
    "from dashscope import Generation\n",
    "from dashscope.api_entities.dashscope_response import Role\n",
    "import dashscope\n",
    "import time\n",
    "import random\n",
    "import os\n",
    "import fitz  # PyMuPDF\n",
    "dashscope.api_key = \"sk-8cdfdc6958a7408492d465269349299f\""
   ]
  },
  {
   "cell_type": "code",
   "execution_count": 2,
   "metadata": {},
   "outputs": [],
   "source": [
    "import pickle\n",
    "with open('node.pkl', 'rb') as f:\n",
    "    nodes_array = pickle.load(f)\n",
    "with open('edge.pkl', 'rb') as f:\n",
    "    edges_array = pickle.load(f)\n",
    "with open('log.pkl', 'rb') as f:\n",
    "    log = pickle.load(f)\n",
    "with open('part_array.pkl', 'rb') as f:\n",
    "    part_array = pickle.load(f)"
   ]
  },
  {
   "cell_type": "code",
   "execution_count": 3,
   "metadata": {},
   "outputs": [
    {
     "name": "stdout",
     "output_type": "stream",
     "text": [
      "['绪论', '3D打印基础理论', '光固化成形', '熔融沉积制造', '激光选区烧结', '激光选区熔化', '三维打印', '其他成形技术', '3D打印技术的应用']\n"
     ]
    }
   ],
   "source": [
    "print(part_array)"
   ]
  },
  {
   "cell_type": "code",
   "execution_count": 4,
   "metadata": {},
   "outputs": [
    {
     "name": "stdout",
     "output_type": "stream",
     "text": [
      "None\n",
      "['绪论', '3D打印基础理论', '光固化成形', '熔融沉积制造', '激光选区烧结', '激光选区熔化', '三维打印', '其他成形技术', '3D打印技术的应用']\n",
      "绪论\n",
      "<buildKG.forest.Node object at 0x7fc8dfef37f0>\n",
      "['正向设计', '属于', '产品设计制造方法']\n",
      "['可行性论证', '属于', '正向设计']\n",
      "['市场现状', '关联', '正向设计']\n",
      "['市场前景', '关联', '正向设计']\n",
      "['市场调研报告', '关联', '正向设计']\n",
      "超时或未找到\n",
      "3D打印基础理论\n",
      "<buildKG.forest.Node object at 0x7fc8dfef2e60>\n",
      "['3D打印', '属于', '数据处理']\n",
      "['数据处理', '包含', '模型前处理']\n",
      "['数据处理', '包含', '模型后处理']\n",
      "['模型前处理', '包括', 'STL格式']\n",
      "['模型前处理', '包括', '点云数据预处理']\n",
      "['模型后处理', '涉及', '逆向设计']\n",
      "超时或未找到\n",
      "光固化成形\n",
      "<buildKG.forest.Node object at 0x7fc8dfef3a30>\n",
      "超时或未找到\n",
      "熔融沉积制造\n",
      "<buildKG.forest.Node object at 0x7fc8dff34040>\n",
      "['FDM', '属于', '增材制造技术']\n",
      "['热塑性塑料', '属于', 'FDM 材料']\n",
      "['ABS', '属于', '热塑性塑料']\n",
      "['聚乳酸', '属于', '热塑性塑料']\n",
      "['聚碳酸酯', '属于', '热塑性塑料']\n",
      "['尼龙', '属于', '热塑性塑料']\n",
      "['支撑材料', '属于', 'FDM 工艺']\n",
      "['成形设备', '属于', 'FDM 技术']\n",
      "超时或未找到\n",
      "激光选区烧结\n",
      "<buildKG.forest.Node object at 0x7fc8dff34bb0>\n",
      "['激光选区烧结', '属于', '3D打印技术']\n",
      "['成形原理', '关联', '激光选区烧结']\n",
      "['特点', '关联', '激光选区烧结']\n",
      "超时或未找到\n",
      "激光选区熔化\n",
      "<buildKG.forest.Node object at 0x7fc8dff35300>\n",
      "['激光选区熔化', '属于', '3D打印技术']\n",
      "['金属粉末', '属于', 'SLM成形材料']\n",
      "['粉末粒径', '影响', 'SLM成形']\n",
      "['球形度', '影响', 'SLM成形']\n",
      "['含氧量', '影响', 'SLM成形']\n",
      "['工艺参数', '影响', 'SLM成形']\n",
      "['后处理影响', '关联', 'SLM成形']\n",
      "['SLM设备', '用于', 'SLM成形']\n",
      "超时或未找到\n",
      "三维打印\n",
      "<buildKG.forest.Node object at 0x7fc8dff34a60>\n",
      "['黏结剂喷射式3D打印', '属于', '3DP']\n",
      "['成形原理', '属于', '3DP']\n",
      "['成形特点', '属于', '3DP']\n",
      "['液体黏结剂', '属于', '黏结剂']\n",
      "['固体粉末黏结剂', '属于', '黏结剂']\n",
      "['液体黏结剂添加剂', '属于', '液体黏结剂']\n",
      "['陶瓷粉末', '属于', '黏结剂喷射式3D打印']\n",
      "['金属粉末', '属于', '黏结剂喷射式3D打印']\n",
      "['石墨烯', '属于', '黏结剂喷射式3D打印']\n",
      "['石膏粉末', '属于', '黏结剂喷射式3D打印']\n",
      "['Projet x60系列', '属于', '3DP']\n",
      "['VisiJet PXL材料', '属于', 'Projet x60系列']\n",
      "['浸渍剂处理后的特性', '属于', 'VisiJet PXL材料']\n",
      "['弹性模量', '属于', '浸渍剂处理后的特性']\n",
      "['抗拉强度', '属于', '浸渍剂处理后的特性']\n",
      "['断后伸长率', '属于', '浸渍剂处理后的特性']\n",
      "['拉伸模量', '属于', '浸渍剂处理后的特性']\n",
      "['抗弯强度', '属于', '浸渍剂处理后的特性']\n",
      "['ProJet CJPx60系列', '属于', '3DP']\n",
      "['ProJet CJP 260Plus', '属于', 'ProJet CJPx60系列']\n",
      "['ProJet CJP 360', '属于', 'ProJet CJPx60系列']\n",
      "['ProJet CJP 460Plus', '属于', 'ProJet CJPx60系列']\n",
      "['ProJet CJP 660Pro', '属于', 'ProJet CJPx60系列']\n",
      "['ProJet CJP 860Pro', '属于', 'ProJet CJPx60系列']\n",
      "['CMYK模式', '属于', 'ProJet CJPx60系列']\n",
      "['打印分辨率', '属于', 'ProJet CJPx60系列']\n",
      "['分层厚度', '属于', 'ProJet CJPx60系列']\n",
      "['Voxeljet VX 系列', '属于', '3DP']\n",
      "['Voxeljet VX200', '属于', 'Voxeljet VX 系列']\n",
      "['Voxeljet VX1000', '属于', 'Voxeljet VX 系列']\n",
      "['Voxeljet VX2000', '属于', 'Voxeljet VX 系列']\n",
      "['Voxeljet VX4000', '属于', 'Voxeljet VX 系列']\n",
      "['CP400打印机', '属于', '3DP']\n",
      "['打印层厚', '属于', 'CP400打印机']\n",
      "['打印分辨率', '属于', 'CP400打印机']\n",
      "['打印头数量', '属于', 'CP400打印机']\n",
      "['外形尺寸', '属于', 'CP400打印机']\n",
      "超时或未找到\n",
      "其他成形技术\n",
      "<buildKG.forest.Node object at 0x7fc8dff34940>\n",
      "['LOM成形原理', '属于', '分层实体制造']\n",
      "['LOM成形特点', '属于', '分层实体制造']\n",
      "['LOM成形材料', '属于', '分层实体制造']\n",
      "['热熔胶', '属于', 'LOM成形材料']\n",
      "['薄片材料', '属于', 'LOM成形材料']\n",
      "['纸质片材', '属于', '薄片材料']\n",
      "['陶瓷片材', '属于', '薄片材料']\n",
      "['金属片材', '属于', '薄片材料']\n",
      "['塑料薄膜', '属于', '薄片材料']\n",
      "['复合材料片材', '属于', '薄片材料']\n",
      "['SDM成形原理', '属于', '形状沉积制造']\n",
      "['SDM成形特点', '属于', '形状沉积制造']\n",
      "['DLP成形机及其参数', '属于', '数字化光照加工']\n",
      "['P4K系列DLP成形机', '属于', 'DLP成形机及其参数']\n",
      "['EnvisionTEC公司', '关联', 'P4K系列DLP成形机']\n",
      "['DLP设备的系统组成', '属于', '数字化光照加工']\n",
      "['光源投影系统', '属于', 'DLP设备的系统组成']\n",
      "['液槽成形系统', '属于', 'DLP设备的系统组成']\n",
      "['运动系统', '属于', 'DLP设备的系统组成']\n",
      "超时或未找到\n"
     ]
    }
   ],
   "source": [
    "# 构建xmind\n",
    "forest = Forest()\n",
    "forest.build_forest(part_array,[],None)\n",
    "forest.print_node()\n",
    "for l in log:\n",
    "    id,nodes_array_i,edges_array_i=l\n",
    "    part=part_array[id]\n",
    "    print(part)\n",
    "    forest.build_forest(nodes_array_i,edges_array_i,part)"
   ]
  },
  {
   "cell_type": "code",
   "execution_count": null,
   "metadata": {},
   "outputs": [],
   "source": [
    "forest.build_kg(\"3D打印技术基础-2\",part_array)"
   ]
  }
 ],
 "metadata": {
  "interpreter": {
   "hash": "3a43079d299c63bb783284bcb9ac9bc1e3eed3f0314f470cf5a5fdc85cb444e2"
  },
  "kernelspec": {
   "display_name": "Python 3.10.12 ('bisheng-wP9oaGSh-py3.10')",
   "language": "python",
   "name": "python3"
  },
  "language_info": {
   "codemirror_mode": {
    "name": "ipython",
    "version": 3
   },
   "file_extension": ".py",
   "mimetype": "text/x-python",
   "name": "python",
   "nbconvert_exporter": "python",
   "pygments_lexer": "ipython3",
   "version": ""
  },
  "orig_nbformat": 4
 },
 "nbformat": 4,
 "nbformat_minor": 2
}
